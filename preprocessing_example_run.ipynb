{
 "cells": [
  {
   "cell_type": "code",
   "execution_count": 1,
   "metadata": {},
   "outputs": [],
   "source": [
    "import os\n",
    "import sys\n",
    "import glob\n",
    "import shelve\n",
    "from pathlib import Path\n"
   ]
  },
  {
   "cell_type": "code",
   "execution_count": 2,
   "metadata": {},
   "outputs": [
    {
     "data": {
      "text/plain": [
       "'C:\\\\Users\\\\isogai lab\\\\Desktop\\\\hamfish'"
      ]
     },
     "execution_count": 2,
     "metadata": {},
     "output_type": "execute_result"
    }
   ],
   "source": [
    "root_dir = Path(r\"C:\\\\Users\\\\isogai lab\\\\Desktop\\\\hamfish\")\n",
    "os.chdir(root_dir)\n",
    "os.getcwd()"
   ]
  },
  {
   "cell_type": "code",
   "execution_count": 3,
   "metadata": {},
   "outputs": [
    {
     "ename": "SyntaxError",
     "evalue": "(unicode error) 'unicodeescape' codec can't decode bytes in position 2-3: truncated \\UXXXXXXXX escape (1925008204.py, line 4)",
     "output_type": "error",
     "traceback": [
      "\u001b[1;36m  Cell \u001b[1;32mIn[3], line 4\u001b[1;36m\u001b[0m\n\u001b[1;33m    sys.path.append(Path(\"C:\\Users\\isogai lab\\Desktop\\hamfish\\src\\preprocessing\"))\u001b[0m\n\u001b[1;37m                         ^\u001b[0m\n\u001b[1;31mSyntaxError\u001b[0m\u001b[1;31m:\u001b[0m (unicode error) 'unicodeescape' codec can't decode bytes in position 2-3: truncated \\UXXXXXXXX escape\n"
     ]
    }
   ],
   "source": [
    "pipeline_path = root_dir / \"src\" / \"preprocessing\"\n",
    "pipeline_path\n",
    "\n",
    "sys.path.append(Path(\"C:\\Users\\isogai lab\\Desktop\\hamfish\\src\\preprocessing\"))"
   ]
  },
  {
   "cell_type": "code",
   "execution_count": 7,
   "metadata": {},
   "outputs": [
    {
     "ename": "ModuleNotFoundError",
     "evalue": "No module named 'b_calculate_hyb_shifts'",
     "output_type": "error",
     "traceback": [
      "\u001b[1;31m---------------------------------------------------------------------------\u001b[0m",
      "\u001b[1;31mModuleNotFoundError\u001b[0m                       Traceback (most recent call last)",
      "Cell \u001b[1;32mIn[7], line 3\u001b[0m\n\u001b[0;32m      1\u001b[0m sys\u001b[38;5;241m.\u001b[39mpath\u001b[38;5;241m.\u001b[39mappend(Path(\u001b[38;5;124mr\u001b[39m\u001b[38;5;124m\"\u001b[39m\u001b[38;5;124mC:\u001b[39m\u001b[38;5;124m\\\u001b[39m\u001b[38;5;124mUsers\u001b[39m\u001b[38;5;124m\\\u001b[39m\u001b[38;5;124misogai lab\u001b[39m\u001b[38;5;124m\\\u001b[39m\u001b[38;5;124mDesktop\u001b[39m\u001b[38;5;124m\\\u001b[39m\u001b[38;5;124mhamfish\u001b[39m\u001b[38;5;124m\\\u001b[39m\u001b[38;5;124msrc\u001b[39m\u001b[38;5;124m\\\u001b[39m\u001b[38;5;124mpreprocessing\u001b[39m\u001b[38;5;124m\"\u001b[39m))\n\u001b[1;32m----> 3\u001b[0m \u001b[38;5;28;01mfrom\u001b[39;00m \u001b[38;5;21;01mb_calculate_hyb_shifts\u001b[39;00m \u001b[38;5;28;01mimport\u001b[39;00m \u001b[38;5;241m*\u001b[39m\n",
      "\u001b[1;31mModuleNotFoundError\u001b[0m: No module named 'b_calculate_hyb_shifts'"
     ]
    }
   ],
   "source": [
    "sys.path.append(Path(r\"C:\\Users\\isogai lab\\Desktop\\hamfish\\src\\preprocessing\"))\n",
    "\n",
    "from b_calculate_hyb_shifts import *\n"
   ]
  },
  {
   "cell_type": "code",
   "execution_count": 6,
   "metadata": {},
   "outputs": [
    {
     "ename": "ModuleNotFoundError",
     "evalue": "No module named 'a_stitch_img'",
     "output_type": "error",
     "traceback": [
      "\u001b[1;31m---------------------------------------------------------------------------\u001b[0m",
      "\u001b[1;31mModuleNotFoundError\u001b[0m                       Traceback (most recent call last)",
      "Cell \u001b[1;32mIn[6], line 6\u001b[0m\n\u001b[0;32m      3\u001b[0m sys\u001b[38;5;241m.\u001b[39mpath\u001b[38;5;241m.\u001b[39mappend(pipeline_path)\n\u001b[0;32m      4\u001b[0m sys\u001b[38;5;241m.\u001b[39mpath\u001b[38;5;241m.\u001b[39mappend(Path(\u001b[38;5;124mr\u001b[39m\u001b[38;5;124m\"\u001b[39m\u001b[38;5;124mC:\u001b[39m\u001b[38;5;124m\\\u001b[39m\u001b[38;5;124mUsers\u001b[39m\u001b[38;5;124m\\\u001b[39m\u001b[38;5;124misogai lab\u001b[39m\u001b[38;5;124m\\\u001b[39m\u001b[38;5;124mDesktop\u001b[39m\u001b[38;5;124m\\\u001b[39m\u001b[38;5;124mhamfish\u001b[39m\u001b[38;5;124m\\\u001b[39m\u001b[38;5;124msrc\u001b[39m\u001b[38;5;124m\\\u001b[39m\u001b[38;5;124mpreprocessing\u001b[39m\u001b[38;5;124m\"\u001b[39m))\n\u001b[1;32m----> 6\u001b[0m \u001b[38;5;28;01mfrom\u001b[39;00m \u001b[38;5;21;01ma_stitch_img\u001b[39;00m \u001b[38;5;28;01mimport\u001b[39;00m \u001b[38;5;241m*\u001b[39m\n\u001b[0;32m      7\u001b[0m \u001b[38;5;28;01mfrom\u001b[39;00m \u001b[38;5;21;01mb_calculate_hyb_shifts\u001b[39;00m \u001b[38;5;28;01mimport\u001b[39;00m \u001b[38;5;241m*\u001b[39m\n\u001b[0;32m      8\u001b[0m \u001b[38;5;28;01mfrom\u001b[39;00m \u001b[38;5;21;01mc_calculate_cell_position\u001b[39;00m \u001b[38;5;28;01mimport\u001b[39;00m \u001b[38;5;241m*\u001b[39m\n",
      "\u001b[1;31mModuleNotFoundError\u001b[0m: No module named 'a_stitch_img'"
     ]
    }
   ],
   "source": [
    "# change this line to the location of seqfish pipeline scripts\n",
    "pipeline_path = root_dir / \"src\" / \"preprocessing\"\n",
    "sys.path.append(pipeline_path)\n",
    "sys.path.append(Path(r\"C:\\Users\\isogai lab\\Desktop\\hamfish\\src\\preprocessing\"))\n",
    "\n",
    "from a_stitch_img import *\n",
    "from b_calculate_hyb_shifts import *\n",
    "from c_calculate_cell_position import *\n",
    "from d_calculate_complex_brightness import *\n",
    "from e_par_gene import *\n",
    "#from f_generate_stats import *\n",
    "#from g_determine_threshold import *"
   ]
  },
  {
   "cell_type": "markdown",
   "metadata": {},
   "source": [
    "#### Set the data path"
   ]
  },
  {
   "cell_type": "code",
   "execution_count": 8,
   "metadata": {},
   "outputs": [],
   "source": [
    "hamfish_Dir = root_dir / \"example\""
   ]
  },
  {
   "cell_type": "code",
   "execution_count": 9,
   "metadata": {},
   "outputs": [],
   "source": [
    "### get path ###\n",
    "expname = 'test'\n",
    "\n",
    "experimentPath = hamfish_Dir / 'processed' / expname # the main output folder\n",
    "downstreamPath = hamfish_Dir / 'downstream' / expname\n",
    "tiledviewPath = hamfish_Dir / 'tiledviews' / expname\n",
    "\n",
    "correctDapiPath = tiledviewPath / 'corrected_lumi' # the output directory of lumi correction\n",
    "exactbigdapiPath = tiledviewPath / 'exact_big_dapi'\n",
    "\n",
    "coordinate_file = tiledviewPath / (expname + '_coordinates.csv')\n",
    "coorSavePath = downstreamPath / 'exact_coor' "
   ]
  },
  {
   "cell_type": "code",
   "execution_count": 10,
   "metadata": {},
   "outputs": [],
   "source": [
    "# this defines which bit belong to which hyb and the color channel for each bit\n",
    "# useful for chromatic abberation correction\n",
    "hyb_bit_dict = {'hyb1': [4, 7, 56], 'hyb2': [1, 9, 17], 'hyb3': [2, 25, 27], 'hyb4': [3, 15, 32], 'hyb5': [5, 16, 12], 'hyb6': [6, 21, 29], 'hyb7': [14, 18, 19], 'hyb8': [22, 26, 20], 'hyb9': [30, 28, 11], 'hyb10': [33, 24, 10], 'hyb11': [58, 13, 54]}\n",
    "\n",
    "# This defines the gene for each bit in hamfish\n",
    "gene_bit_dict = {4: 'Slc17a6', 7: 'Penk', 56: 'Grik1', 1:'Reln', 9:'Cnr1', 17: 'Ecel1',\n",
    "2: 'Ndnf', 25: 'Kit', 27: 'Lhx6', 3: 'Slc32a1', 15: 'Adcyap1', 32: 'Cbln4',\n",
    "5: 'Cck', 16: 'Cartpt', 12: 'Prlr', 6: 'Nts', 21: 'Calcr', 29: 'Oprk1',\n",
    "14: 'Tac1',  18: 'Calb2', 19: 'Htr2c', 22: 'Dlk1',  26: 'Nos1',  20: 'Pdyn',\n",
    "30: 'Calb1', 28: 'Esr2', 11: 'Lamp5',  33:'Sst',  24: 'Esr1', 10: 'Trh',\n",
    "58: 'Npy',  13: 'Fos', 54: 'Gal'}\n",
    "\n",
    "# the zscan range for each view\n",
    "view_list = [(16, 27), (30, 41)]\n",
    "\n",
    "bitlist = [b for b in list(gene_bit_dict.keys()) if b != 0]\n",
    "\n",
    "genelist = list(gene_bit_dict.values())\n",
    "\n",
    "num_digit = 3 # how the zscan folder name is structured"
   ]
  },
  {
   "cell_type": "markdown",
   "metadata": {},
   "source": [
    "#### 1. Illumination correction"
   ]
  },
  {
   "cell_type": "code",
   "execution_count": null,
   "metadata": {},
   "outputs": [],
   "source": [
    "### refer to the matlab runscript"
   ]
  },
  {
   "cell_type": "markdown",
   "metadata": {},
   "source": [
    "#### 2. get coordinates "
   ]
  },
  {
   "cell_type": "code",
   "execution_count": 7,
   "metadata": {},
   "outputs": [],
   "source": [
    "# generate the coordinate files for each dapi among a view\n",
    "# output two files for each view: 1) how the zscan are tiled 2) the exact pixel coordinate for each zscan \n",
    "get_new_coord_experiment(coordinate_file, view_list, downstreamPath, correctDapiPath, coorSavePath, num_digit)"
   ]
  },
  {
   "cell_type": "code",
   "execution_count": null,
   "metadata": {},
   "outputs": [],
   "source": [
    "# for single view\n",
    "# get_new_coord(coordinate_file, (16, 27), downstreamPath, correctDapiPath, coorSavePath, num_digit)"
   ]
  },
  {
   "cell_type": "code",
   "execution_count": 8,
   "metadata": {},
   "outputs": [],
   "source": [
    "# stitch the corrrected hapi images into a view\n",
    "stitch_dapi_experiment(view_list, downstreamPath, exactbigdapiPath, correctDapiPath, coorSavePath, num_digit)"
   ]
  },
  {
   "cell_type": "code",
   "execution_count": null,
   "metadata": {},
   "outputs": [],
   "source": [
    "# for single view\n",
    "# stitch_dapi((16, 27), downstreamPath, exactbigdapiPath, correctDapiPath, coorSavePath, num_digit)"
   ]
  },
  {
   "cell_type": "code",
   "execution_count": null,
   "metadata": {},
   "outputs": [],
   "source": [
    "# rotate the tiled view if needed"
   ]
  },
  {
   "cell_type": "markdown",
   "metadata": {},
   "source": [
    "#### 3. cellpose"
   ]
  },
  {
   "cell_type": "code",
   "execution_count": null,
   "metadata": {},
   "outputs": [],
   "source": [
    "!python -m cellpose --pretrained_model cyto --diameter 75 --dir 'C:/Users/isogai lab/Desktop/hamfish/example/tiledviews/test' --chan 0 --save_tif --no_npy --use_gpu --verbose --mask_threshold -2"
   ]
  },
  {
   "cell_type": "markdown",
   "metadata": {},
   "source": [
    "#### 4. calculate shifts this can be run parallel to step 1 2 3 4\n"
   ]
  },
  {
   "cell_type": "code",
   "execution_count": 10,
   "metadata": {},
   "outputs": [
    {
     "name": "stdout",
     "output_type": "stream",
     "text": [
      "All done!\n"
     ]
    }
   ],
   "source": [
    "run_calculate_shifts_experiment(experimentPath, downstreamPath, view_list, hyb_bit_dict)"
   ]
  },
  {
   "cell_type": "code",
   "execution_count": 9,
   "metadata": {},
   "outputs": [
    {
     "name": "stdout",
     "output_type": "stream",
     "text": [
      "Calculating shifts for  (16, 27)\n"
     ]
    }
   ],
   "source": [
    "# for single view\n",
    "run_calculate_shifts_view(experimentPath, downstreamPath, (16, 27), list(hyb_bit_dict.keys()))"
   ]
  },
  {
   "cell_type": "markdown",
   "metadata": {},
   "source": [
    "#### 5. calculate cell X Y position, you can tune the high and low threshold value to get rid small / big cells"
   ]
  },
  {
   "cell_type": "code",
   "execution_count": 6,
   "metadata": {},
   "outputs": [
    {
     "name": "stdout",
     "output_type": "stream",
     "text": [
      "Processing:  C:\\Users\\isogai lab\\Desktop\\hamfish\\example\\tiledviews\\test\\exact_big_dapi\n",
      "All Done!\n"
     ]
    }
   ],
   "source": [
    "# parameters are sd to the mean cellsize, eg. low = 1.5 means filter all cells that size below mean - 1.5 sd\n",
    "filt = True\n",
    "overwrite = True\n",
    "low = 1.5\n",
    "high = 3\n",
    "run_calculate_cellpos_experiment(exactbigdapiPath, downstreamPath, view_list, filt, low, high, overwrite)"
   ]
  },
  {
   "cell_type": "code",
   "execution_count": 8,
   "metadata": {},
   "outputs": [],
   "source": [
    "# 5.1 optional, plot cell id on top of cellpose result, for check bugs\n",
    "for view in view_list:\n",
    "    plot_cell_pos(view, downstreamPath, exactbigdapiPath)"
   ]
  },
  {
   "cell_type": "markdown",
   "metadata": {},
   "source": [
    "#### 6. calculate complex brightness"
   ]
  },
  {
   "cell_type": "code",
   "execution_count": 22,
   "metadata": {},
   "outputs": [],
   "source": [
    "fftthr = 200\n",
    "correct = True  # whether to use shading correction\n",
    "bit_ratio_filter = {1: 0.035, 13: 0.035, 14: 0.035, 4: 0.035, 7: 0.035, 56: 0.035, 9: 0.035, 17: 0.035, 2: 0.035,\n",
    "25: 0.035, 27: 0.035, 3: 0.035, 15: 0.035, 32: 0.035, 5: 0.035, 16: 0.035, 12: 0.035, 6: 0.035, 21: 0.1, 29: 0.035,\n",
    "18: 0.1, 19: 0.035, 22: 0.1, 26: 0.035, 20: 0.035, 30: 0.035, 28: 0.035, 11: 0.035, 33: 0.1, 24: 0.035, 10: 0.035,\n",
    "58: 0.035, 54: 0.035}   ### get rid of the dust spots in the data, 0.035 is the ratio of area(> 99/9% intensity) / area(> 98% intensity)\n",
    "# if this ratio is over 0.035, set the lumi to 0 for that bit that cell, turned off for some bits, like Sst\n",
    "\n",
    "correct_files = [pipeline_path / \"correct_lumi\" / 'average_488.tif',\n",
    "                 pipeline_path / \"correct_lumi\" / 'average_cy3.tif',\n",
    "                 pipeline_path / \"correct_lumi\" / 'average_cy5.tif']"
   ]
  },
  {
   "cell_type": "code",
   "execution_count": 23,
   "metadata": {},
   "outputs": [
    {
     "ename": "TypeError",
     "evalue": "run_calculate_cell_lumi_seqfish_experiment() takes from 7 to 10 positional arguments but 11 were given",
     "output_type": "error",
     "traceback": [
      "\u001b[1;31m---------------------------------------------------------------------------\u001b[0m",
      "\u001b[1;31mTypeError\u001b[0m                                 Traceback (most recent call last)",
      "Cell \u001b[1;32mIn[23], line 1\u001b[0m\n\u001b[1;32m----> 1\u001b[0m run_calculate_cell_lumi_seqfish_experiment(fftthr, \n\u001b[0;32m      2\u001b[0m                                            view_list, \n\u001b[0;32m      3\u001b[0m                                            experimentPath, \n\u001b[0;32m      4\u001b[0m                                            exactbigdapiPath, \n\u001b[0;32m      5\u001b[0m                                            coorSavePath, \n\u001b[0;32m      6\u001b[0m                                            downstreamPath, \n\u001b[0;32m      7\u001b[0m                                            hyb_bit_dict, \n\u001b[0;32m      8\u001b[0m                                            num_digit, \n\u001b[0;32m      9\u001b[0m                                            correct, \n\u001b[0;32m     10\u001b[0m                                            bit_ratio_filter,\n\u001b[0;32m     11\u001b[0m                                            correct_files)\n",
      "\u001b[1;31mTypeError\u001b[0m: run_calculate_cell_lumi_seqfish_experiment() takes from 7 to 10 positional arguments but 11 were given"
     ]
    }
   ],
   "source": [
    "run_calculate_cell_lumi_seqfish_experiment(fftthr, \n",
    "                                           view_list, \n",
    "                                           experimentPath, \n",
    "                                           exactbigdapiPath, \n",
    "                                           coorSavePath, \n",
    "                                           downstreamPath, \n",
    "                                           hyb_bit_dict, \n",
    "                                           num_digit, \n",
    "                                           correct, \n",
    "                                           bit_ratio_filter,\n",
    "                                           correct_files)"
   ]
  }
 ],
 "metadata": {
  "kernelspec": {
   "display_name": "base",
   "language": "python",
   "name": "python3"
  },
  "language_info": {
   "codemirror_mode": {
    "name": "ipython",
    "version": 3
   },
   "file_extension": ".py",
   "mimetype": "text/x-python",
   "name": "python",
   "nbconvert_exporter": "python",
   "pygments_lexer": "ipython3",
   "version": "3.12.3"
  }
 },
 "nbformat": 4,
 "nbformat_minor": 2
}
